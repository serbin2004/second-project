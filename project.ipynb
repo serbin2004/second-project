{
 "cells": [
  {
   "cell_type": "markdown",
   "id": "4f11de00",
   "metadata": {
    "deletable": false,
    "editable": false,
    "id": "4f11de00"
   },
   "source": [
    "# Исследование надежности заемщиков"
   ]
  },
  {
   "cell_type": "markdown",
   "id": "f09d6878",
   "metadata": {
    "deletable": false,
    "editable": false,
    "id": "f09d6878"
   },
   "source": [
    "Это первая часть проекта, она будет проверена автоматически. Вторую часть проверит ревьюер. "
   ]
  },
  {
   "cell_type": "markdown",
   "id": "516620ee",
   "metadata": {
    "deletable": false,
    "editable": false,
    "id": "516620ee"
   },
   "source": [
    "## Откройте таблицу и изучите общую информацию о данных"
   ]
  },
  {
   "cell_type": "markdown",
   "id": "76a8a9ce",
   "metadata": {
    "deletable": false,
    "editable": false,
    "id": "76a8a9ce",
    "tags": [
     "start_task"
    ]
   },
   "source": [
    "**Задание 1. Изменил строки Импортируйте библиотеку pandas. Считайте данные из csv-файла в датафрейм и сохраните в переменную `data`. Путь к файлу:**\n",
    "\n",
    "`/datasets/data.csv`"
   ]
  },
  {
   "cell_type": "code",
   "execution_count": 216,
   "id": "fab207d0",
   "metadata": {
    "id": "fab207d0"
   },
   "outputs": [],
   "source": [
    "import pandas as pd # импортируйте библиотеку pandas"
   ]
  },
  {
   "cell_type": "code",
   "execution_count": 217,
   "id": "6c82b607",
   "metadata": {
    "id": "6c82b607"
   },
   "outputs": [],
   "source": [
    "data = pd.read_csv('/datasets/data.csv') # прочитайте csv-файл"
   ]
  },
  {
   "cell_type": "markdown",
   "id": "08bbb5b3",
   "metadata": {
    "deletable": false,
    "editable": false,
    "id": "08bbb5b3",
    "tags": [
     "start_task"
    ]
   },
   "source": [
    "**Задание 2. Выведите первые 20 строчек датафрейма `data` на экран.**"
   ]
  },
  {
   "cell_type": "code",
   "execution_count": 218,
   "id": "4ff33b36",
   "metadata": {
    "id": "4ff33b36"
   },
   "outputs": [
    {
     "name": "stdout",
     "output_type": "stream",
     "text": [
      "    children  days_employed  dob_years            education  education_id  \\\n",
      "0          1   -8437.673028         42               высшее             0   \n",
      "1          1   -4024.803754         36              среднее             1   \n",
      "2          0   -5623.422610         33              Среднее             1   \n",
      "3          3   -4124.747207         32              среднее             1   \n",
      "4          0  340266.072047         53              среднее             1   \n",
      "5          0    -926.185831         27               высшее             0   \n",
      "6          0   -2879.202052         43               высшее             0   \n",
      "7          0    -152.779569         50              СРЕДНЕЕ             1   \n",
      "8          2   -6929.865299         35               ВЫСШЕЕ             0   \n",
      "9          0   -2188.756445         41              среднее             1   \n",
      "10         2   -4171.483647         36               высшее             0   \n",
      "11         0    -792.701887         40              среднее             1   \n",
      "12         0            NaN         65              среднее             1   \n",
      "13         0   -1846.641941         54  неоконченное высшее             2   \n",
      "14         0   -1844.956182         56               высшее             0   \n",
      "15         1    -972.364419         26              среднее             1   \n",
      "16         0   -1719.934226         35              среднее             1   \n",
      "17         0   -2369.999720         33               высшее             0   \n",
      "18         0  400281.136913         53              среднее             1   \n",
      "19         0  -10038.818549         48              СРЕДНЕЕ             1   \n",
      "\n",
      "       family_status  family_status_id gender income_type  debt  \\\n",
      "0    женат / замужем                 0      F   сотрудник     0   \n",
      "1    женат / замужем                 0      F   сотрудник     0   \n",
      "2    женат / замужем                 0      M   сотрудник     0   \n",
      "3    женат / замужем                 0      M   сотрудник     0   \n",
      "4   гражданский брак                 1      F   пенсионер     0   \n",
      "5   гражданский брак                 1      M   компаньон     0   \n",
      "6    женат / замужем                 0      F   компаньон     0   \n",
      "7    женат / замужем                 0      M   сотрудник     0   \n",
      "8   гражданский брак                 1      F   сотрудник     0   \n",
      "9    женат / замужем                 0      M   сотрудник     0   \n",
      "10   женат / замужем                 0      M   компаньон     0   \n",
      "11   женат / замужем                 0      F   сотрудник     0   \n",
      "12  гражданский брак                 1      M   пенсионер     0   \n",
      "13   женат / замужем                 0      F   сотрудник     0   \n",
      "14  гражданский брак                 1      F   компаньон     1   \n",
      "15   женат / замужем                 0      F   сотрудник     0   \n",
      "16   женат / замужем                 0      F   сотрудник     0   \n",
      "17  гражданский брак                 1      M   сотрудник     0   \n",
      "18    вдовец / вдова                 2      F   пенсионер     0   \n",
      "19         в разводе                 3      F   сотрудник     0   \n",
      "\n",
      "     total_income                                 purpose  \n",
      "0   253875.639453                           покупка жилья  \n",
      "1   112080.014102                 приобретение автомобиля  \n",
      "2   145885.952297                           покупка жилья  \n",
      "3   267628.550329              дополнительное образование  \n",
      "4   158616.077870                         сыграть свадьбу  \n",
      "5   255763.565419                           покупка жилья  \n",
      "6   240525.971920                       операции с жильем  \n",
      "7   135823.934197                             образование  \n",
      "8    95856.832424                   на проведение свадьбы  \n",
      "9   144425.938277                 покупка жилья для семьи  \n",
      "10  113943.491460                    покупка недвижимости  \n",
      "11   77069.234271       покупка коммерческой недвижимости  \n",
      "12            NaN                         сыграть свадьбу  \n",
      "13  130458.228857                 приобретение автомобиля  \n",
      "14  165127.911772              покупка жилой недвижимости  \n",
      "15  116820.904450  строительство собственной недвижимости  \n",
      "16  289202.704229                            недвижимость  \n",
      "17   90410.586745              строительство недвижимости  \n",
      "18   56823.777243      на покупку подержанного автомобиля  \n",
      "19  242831.107982            на покупку своего автомобиля  \n"
     ]
    }
   ],
   "source": [
    "print(data.head(20)) # ваш код здесь"
   ]
  },
  {
   "cell_type": "markdown",
   "id": "c8f382ae",
   "metadata": {
    "deletable": false,
    "editable": false,
    "id": "c8f382ae",
    "tags": [
     "start_task"
    ]
   },
   "source": [
    "**Задание 3. Выведите основную информацию о датафрейме с помощью метода `info()`.**"
   ]
  },
  {
   "cell_type": "code",
   "execution_count": 219,
   "id": "e1ed9908",
   "metadata": {
    "id": "e1ed9908"
   },
   "outputs": [
    {
     "name": "stdout",
     "output_type": "stream",
     "text": [
      "<class 'pandas.core.frame.DataFrame'>\n",
      "RangeIndex: 21525 entries, 0 to 21524\n",
      "Data columns (total 12 columns):\n",
      " #   Column            Non-Null Count  Dtype  \n",
      "---  ------            --------------  -----  \n",
      " 0   children          21525 non-null  int64  \n",
      " 1   days_employed     19351 non-null  float64\n",
      " 2   dob_years         21525 non-null  int64  \n",
      " 3   education         21525 non-null  object \n",
      " 4   education_id      21525 non-null  int64  \n",
      " 5   family_status     21525 non-null  object \n",
      " 6   family_status_id  21525 non-null  int64  \n",
      " 7   gender            21525 non-null  object \n",
      " 8   income_type       21525 non-null  object \n",
      " 9   debt              21525 non-null  int64  \n",
      " 10  total_income      19351 non-null  float64\n",
      " 11  purpose           21525 non-null  object \n",
      "dtypes: float64(2), int64(5), object(5)\n",
      "memory usage: 2.0+ MB\n"
     ]
    }
   ],
   "source": [
    "data.info() # ваш код здесь"
   ]
  },
  {
   "cell_type": "markdown",
   "id": "f969a1cd",
   "metadata": {
    "deletable": false,
    "editable": false,
    "id": "f969a1cd"
   },
   "source": [
    "## Предобработка данных"
   ]
  },
  {
   "cell_type": "markdown",
   "id": "7283e864",
   "metadata": {
    "deletable": false,
    "editable": false,
    "id": "7283e864"
   },
   "source": [
    "### Удаление пропусков"
   ]
  },
  {
   "cell_type": "markdown",
   "id": "c9a0745e",
   "metadata": {
    "deletable": false,
    "editable": false,
    "id": "c9a0745e",
    "tags": [
     "start_task"
    ]
   },
   "source": [
    "**Задание 4. Выведите количество пропущенных значений для каждого столбца. Используйте комбинацию двух методов.**"
   ]
  },
  {
   "cell_type": "code",
   "execution_count": 220,
   "id": "b7a096e1",
   "metadata": {
    "id": "b7a096e1"
   },
   "outputs": [
    {
     "name": "stdout",
     "output_type": "stream",
     "text": [
      "children               0\n",
      "days_employed       2174\n",
      "dob_years              0\n",
      "education              0\n",
      "education_id           0\n",
      "family_status          0\n",
      "family_status_id       0\n",
      "gender                 0\n",
      "income_type            0\n",
      "debt                   0\n",
      "total_income        2174\n",
      "purpose                0\n",
      "dtype: int64\n"
     ]
    }
   ],
   "source": [
    "print(data.isna().sum()) # ваш код здесь"
   ]
  },
  {
   "cell_type": "markdown",
   "id": "c2578616",
   "metadata": {
    "deletable": false,
    "editable": false,
    "id": "c2578616",
    "tags": [
     "start_task"
    ]
   },
   "source": [
    "**Задание 5. В двух столбцах есть пропущенные значения. Один из них — `days_employed`. Пропуски в этом столбце вы обработаете на следующем этапе. Другой столбец с пропущенными значениями — `total_income` — хранит данные о доходах. На сумму дохода сильнее всего влияет тип занятости, поэтому заполнить пропуски в этом столбце нужно медианным значением по каждому типу из столбца `income_type`. Например, у человека с типом занятости `сотрудник` пропуск в столбце `total_income` должен быть заполнен медианным доходом среди всех записей с тем же типом.**"
   ]
  },
  {
   "cell_type": "code",
   "execution_count": 221,
   "id": "e8afc4bc",
   "metadata": {
    "id": "e8afc4bc"
   },
   "outputs": [],
   "source": [
    "income_avg = data.groupby('income_type')['total_income'].median() # ваш код здесь\n",
    "\n",
    "data['total_income'] = data.apply(\n",
    "    lambda row: income_avg[row['income_type']] if pd.isnull(row['total_income']) else row['total_income'],\n",
    "    axis=1\n",
    ")"
   ]
  },
  {
   "cell_type": "markdown",
   "id": "ae986d46",
   "metadata": {
    "deletable": false,
    "editable": false,
    "id": "ae986d46"
   },
   "source": [
    "### Обработка аномальных значений"
   ]
  },
  {
   "cell_type": "markdown",
   "id": "b049cbae",
   "metadata": {
    "deletable": false,
    "editable": false,
    "id": "b049cbae",
    "tags": [
     "start_task"
    ]
   },
   "source": [
    "**Задание 6. В данных могут встречаться артефакты (аномалии) — значения, которые не отражают действительность и появились по какой-то ошибке. Таким артефактом будет отрицательное количество дней трудового стажа в столбце `days_employed`. Для реальных данных это нормально. Обработайте значения в этом столбце: замените все отрицательные значения положительными с помощью метода `abs()`.**"
   ]
  },
  {
   "cell_type": "code",
   "execution_count": 222,
   "id": "187779b0",
   "metadata": {
    "id": "187779b0"
   },
   "outputs": [],
   "source": [
    "data[\"days_employed\"] = data[\"days_employed\"].abs() # ваш код здесь"
   ]
  },
  {
   "cell_type": "markdown",
   "id": "a13054c2",
   "metadata": {
    "deletable": false,
    "editable": false,
    "id": "a13054c2",
    "tags": [
     "start_task"
    ]
   },
   "source": [
    "**Задание 7. Для каждого типа занятости выведите медианное значение трудового стажа `days_employed` в днях.**"
   ]
  },
  {
   "cell_type": "code",
   "execution_count": 223,
   "id": "f3f5810c",
   "metadata": {
    "id": "f3f5810c"
   },
   "outputs": [
    {
     "name": "stdout",
     "output_type": "stream",
     "text": [
      "income_type\n",
      "безработный        366413.652744\n",
      "в декрете            3296.759962\n",
      "госслужащий          2689.368353\n",
      "компаньон            1547.382223\n",
      "пенсионер          365213.306266\n",
      "предприниматель       520.848083\n",
      "сотрудник            1574.202821\n",
      "студент               578.751554\n",
      "Name: days_employed, dtype: float64\n"
     ]
    }
   ],
   "source": [
    "# data['income_type'] = data[\"days_employed\"].median()\n",
    "\n",
    "print(data.groupby('income_type')['days_employed'].median()) # ваш код здесь"
   ]
  },
  {
   "cell_type": "markdown",
   "id": "dbc3168c",
   "metadata": {
    "deletable": false,
    "editable": false,
    "id": "dbc3168c"
   },
   "source": [
    "У двух типов (безработные и пенсионеры) получатся аномально большие значения. Исправить такие значения сложно, поэтому оставьте их как есть."
   ]
  },
  {
   "cell_type": "markdown",
   "id": "ff4378c2",
   "metadata": {
    "deletable": false,
    "editable": false,
    "id": "ff4378c2",
    "tags": [
     "start_task"
    ]
   },
   "source": [
    "**Задание 8. Выведите перечень уникальных значений столбца `children`.**"
   ]
  },
  {
   "cell_type": "code",
   "execution_count": 224,
   "id": "9bd0c232",
   "metadata": {
    "id": "9bd0c232"
   },
   "outputs": [
    {
     "name": "stdout",
     "output_type": "stream",
     "text": [
      "[ 1  0  3  2 -1  4 20  5]\n"
     ]
    }
   ],
   "source": [
    "print(data['children'].unique())# ваш код здесь"
   ]
  },
  {
   "cell_type": "markdown",
   "id": "8e911990",
   "metadata": {
    "deletable": false,
    "editable": false,
    "id": "8e911990",
    "tags": [
     "start_task"
    ]
   },
   "source": [
    "**Задание 9. В столбце `children` есть два аномальных значения. Удалите строки, в которых встречаются такие аномальные значения из датафрейма `data`.**"
   ]
  },
  {
   "cell_type": "code",
   "execution_count": 225,
   "id": "6d5ba289",
   "metadata": {
    "id": "6d5ba289"
   },
   "outputs": [],
   "source": [
    "data = data[(data['children'] != -1) & (data['children'] != 20)] # ваш код здесь # ваш код здесь"
   ]
  },
  {
   "cell_type": "markdown",
   "id": "18d77455",
   "metadata": {
    "deletable": false,
    "editable": false,
    "id": "18d77455",
    "tags": [
     "start_task"
    ]
   },
   "source": [
    "**Задание 10. Ещё раз выведите перечень уникальных значений столбца `children`, чтобы убедиться, что артефакты удалены.**"
   ]
  },
  {
   "cell_type": "code",
   "execution_count": 226,
   "id": "2c5fa92c",
   "metadata": {
    "id": "2c5fa92c"
   },
   "outputs": [
    {
     "name": "stdout",
     "output_type": "stream",
     "text": [
      "[1 0 3 2 4 5]\n"
     ]
    }
   ],
   "source": [
    "print(data['children'].unique()) # ваш код здесь"
   ]
  },
  {
   "cell_type": "markdown",
   "id": "0ec07dee",
   "metadata": {
    "deletable": false,
    "editable": false,
    "id": "0ec07dee"
   },
   "source": [
    "### Удаление пропусков (продолжение)"
   ]
  },
  {
   "cell_type": "markdown",
   "id": "0fc3ae3f",
   "metadata": {
    "deletable": false,
    "editable": false,
    "id": "0fc3ae3f",
    "tags": [
     "start_task"
    ]
   },
   "source": [
    "**Задание 11. Заполните пропуски в столбце `days_employed` медианными значениями по каждому типу занятости `income_type`.**"
   ]
  },
  {
   "cell_type": "code",
   "execution_count": 227,
   "id": "e2aea7ac",
   "metadata": {
    "id": "e2aea7ac"
   },
   "outputs": [],
   "source": [
    "income_avg_days = data.groupby('income_type')['days_employed'].median() # ваш код здесь\n",
    "\n",
    "data['days_employed'] = data.apply(\n",
    "    lambda row: income_avg_days[row['income_type']] if pd.isnull(row['days_employed']) else row['days_employed'],\n",
    "    axis=1\n",
    ")\n",
    "# ваш код здесь"
   ]
  },
  {
   "cell_type": "markdown",
   "id": "97b0b795",
   "metadata": {
    "deletable": false,
    "editable": false,
    "id": "97b0b795",
    "tags": [
     "start_task"
    ]
   },
   "source": [
    "**Задание 12. Убедитесь, что все пропуски заполнены. Проверьте себя и ещё раз выведите количество пропущенных значений для каждого столбца с помощью двух методов.**"
   ]
  },
  {
   "cell_type": "code",
   "execution_count": 228,
   "id": "79632a21",
   "metadata": {
    "id": "79632a21"
   },
   "outputs": [
    {
     "name": "stdout",
     "output_type": "stream",
     "text": [
      "children            0\n",
      "days_employed       0\n",
      "dob_years           0\n",
      "education           0\n",
      "education_id        0\n",
      "family_status       0\n",
      "family_status_id    0\n",
      "gender              0\n",
      "income_type         0\n",
      "debt                0\n",
      "total_income        0\n",
      "purpose             0\n",
      "dtype: int64\n"
     ]
    }
   ],
   "source": [
    "print(data.isna().sum()) # ваш код здесь"
   ]
  },
  {
   "cell_type": "markdown",
   "id": "bd4aeb20",
   "metadata": {
    "deletable": false,
    "editable": false,
    "id": "bd4aeb20"
   },
   "source": [
    "### Изменение типов данных"
   ]
  },
  {
   "cell_type": "markdown",
   "id": "963bfa58",
   "metadata": {
    "deletable": false,
    "editable": false,
    "id": "963bfa58",
    "tags": [
     "start_task"
    ]
   },
   "source": [
    "**Задание 13. Замените вещественный тип данных в столбце `total_income` на целочисленный с помощью метода `astype()`.**"
   ]
  },
  {
   "cell_type": "code",
   "execution_count": 229,
   "id": "73da6ea0",
   "metadata": {
    "id": "73da6ea0"
   },
   "outputs": [],
   "source": [
    "data['total_income'] = data['total_income'].astype(\"int\")# ваш код здесь"
   ]
  },
  {
   "cell_type": "markdown",
   "id": "d290239e",
   "metadata": {
    "deletable": false,
    "editable": false,
    "id": "d290239e"
   },
   "source": [
    "### Обработка дубликатов"
   ]
  },
  {
   "cell_type": "markdown",
   "id": "1b5844fd",
   "metadata": {
    "deletable": false,
    "editable": false,
    "id": "1b5844fd",
    "tags": [
     "start_task"
    ]
   },
   "source": [
    "**Задание 14. Обработайте неявные дубликаты в столбце `education`. В этом столбце есть одни и те же значения, но записанные по-разному: с использованием заглавных и строчных букв. Приведите их к нижнему регистру.**"
   ]
  },
  {
   "cell_type": "code",
   "execution_count": 230,
   "id": "3f2504b3",
   "metadata": {
    "id": "3f2504b3"
   },
   "outputs": [
    {
     "name": "stdout",
     "output_type": "stream",
     "text": [
      "0         высшее\n",
      "1        среднее\n",
      "2        Среднее\n",
      "3        среднее\n",
      "4        среднее\n",
      "          ...   \n",
      "21520    среднее\n",
      "21521    среднее\n",
      "21522    среднее\n",
      "21523    среднее\n",
      "21524    среднее\n",
      "Name: education, Length: 21402, dtype: object\n"
     ]
    }
   ],
   "source": [
    "print(data['education'])\n",
    "\n",
    "data['education'] = data['education'].str.lower() #приведем к нижнему регистру"
   ]
  },
  {
   "cell_type": "markdown",
   "id": "4c22acbc",
   "metadata": {
    "deletable": false,
    "editable": false,
    "id": "4c22acbc",
    "tags": [
     "start_task"
    ]
   },
   "source": [
    "**Задание 15. Выведите на экран количество строк-дубликатов в данных. Если такие строки присутствуют, удалите их.**"
   ]
  },
  {
   "cell_type": "code",
   "execution_count": 231,
   "id": "d34a4325",
   "metadata": {
    "id": "d34a4325"
   },
   "outputs": [
    {
     "name": "stdout",
     "output_type": "stream",
     "text": [
      "71\n"
     ]
    }
   ],
   "source": [
    "total = data.duplicated().sum()# посчитайте дубликаты\n",
    "\n",
    "print(total)"
   ]
  },
  {
   "cell_type": "code",
   "execution_count": 232,
   "id": "6e1a6499",
   "metadata": {
    "id": "6e1a6499"
   },
   "outputs": [],
   "source": [
    "data = data.drop_duplicates() #удалите дубликаты\n",
    "\n",
    "data = data.reset_index(drop=True) #усбросим индексы\n"
   ]
  },
  {
   "cell_type": "markdown",
   "id": "e5686ccc",
   "metadata": {
    "deletable": false,
    "editable": false,
    "id": "e5686ccc"
   },
   "source": [
    "### Категоризация данных"
   ]
  },
  {
   "cell_type": "markdown",
   "id": "636e9acd",
   "metadata": {
    "deletable": false,
    "editable": false,
    "id": "636e9acd",
    "tags": [
     "start_task"
    ]
   },
   "source": [
    "**Задание 16. На основании диапазонов, указанных ниже, создайте в датафрейме `data` столбец `total_income_category` с категориями:**\n",
    "\n",
    "- 0–30000 — `'E'`;\n",
    "- 30001–50000 — `'D'`;\n",
    "- 50001–200000 — `'C'`;\n",
    "- 200001–1000000 — `'B'`;\n",
    "- 1000001 и выше — `'A'`.\n",
    "\n",
    "\n",
    "**Например, кредитополучателю с доходом 25000 нужно назначить категорию `'E'`, а клиенту, получающему 235000, — `'B'`. Используйте собственную функцию с именем `categorize_income()` и метод `apply()`.**"
   ]
  },
  {
   "cell_type": "code",
   "execution_count": 236,
   "id": "880a77e5",
   "metadata": {
    "id": "880a77e5"
   },
   "outputs": [],
   "source": [
    "def categorize_income(income):\n",
    "    if income <= 30000:\n",
    "        return 'E'\n",
    "    elif income <= 50000:\n",
    "        return 'D'\n",
    "    elif income <= 200000:\n",
    "        return 'C'\n",
    "    elif income <= 1000000:\n",
    "        return 'B'\n",
    "    else:\n",
    "        return 'A'\n",
    "    \n",
    "    # создайте функцию categorize_income()"
   ]
  },
  {
   "cell_type": "code",
   "execution_count": 240,
   "id": "6f25f161",
   "metadata": {
    "id": "6f25f161"
   },
   "outputs": [],
   "source": [
    "data['total_income_category'] = data[\"total_income\"].apply(categorize_income) # примените функцию методом apply()\n",
    "\n",
    "#print(data)"
   ]
  },
  {
   "cell_type": "markdown",
   "id": "3363b685",
   "metadata": {
    "deletable": false,
    "editable": false,
    "id": "3363b685",
    "tags": [
     "start_task"
    ]
   },
   "source": [
    "**Задание 17. Выведите на экран перечень уникальных целей взятия кредита из столбца `purpose`.**"
   ]
  },
  {
   "cell_type": "code",
   "execution_count": 235,
   "id": "e59f2c15",
   "metadata": {
    "id": "e59f2c15"
   },
   "outputs": [],
   "source": [
    "# ваш код здесь"
   ]
  },
  {
   "cell_type": "markdown",
   "id": "bb33e847",
   "metadata": {
    "deletable": false,
    "editable": false,
    "id": "bb33e847",
    "tags": [
     "start_task"
    ]
   },
   "source": [
    "**Задание 18. Создайте функцию, которая на основании данных из столбца `purpose` сформирует новый столбец `purpose_category`, в который войдут следующие категории:**\n",
    "\n",
    "- `'операции с автомобилем'`,\n",
    "- `'операции с недвижимостью'`,\n",
    "- `'проведение свадьбы'`,\n",
    "- `'получение образования'`.\n",
    "\n",
    "**Например, если в столбце `purpose` находится подстрока `'на покупку автомобиля'`, то в столбце `purpose_category` должна появиться строка `'операции с автомобилем'`.**\n",
    "\n",
    "**Используйте собственную функцию с именем `categorize_purpose()` и метод `apply()`. Изучите данные в столбце `purpose` и определите, какие подстроки помогут вам правильно определить категорию.**"
   ]
  },
  {
   "cell_type": "code",
   "execution_count": null,
   "id": "63909b83",
   "metadata": {
    "id": "63909b83"
   },
   "outputs": [],
   "source": [
    "# создайте функцию categorize_purpose()"
   ]
  },
  {
   "cell_type": "code",
   "execution_count": null,
   "id": "7cb4a81d",
   "metadata": {
    "id": "7cb4a81d"
   },
   "outputs": [],
   "source": [
    "# примените функцию методом apply()"
   ]
  }
 ],
 "metadata": {
  "ExecuteTimeLog": [
   {
    "duration": 52,
    "start_time": "2024-03-03T16:07:50.594Z"
   },
   {
    "duration": 6,
    "start_time": "2024-03-03T16:08:12.676Z"
   },
   {
    "duration": 6,
    "start_time": "2024-03-03T16:08:33.050Z"
   },
   {
    "duration": 6,
    "start_time": "2024-03-03T16:08:39.775Z"
   },
   {
    "duration": 402,
    "start_time": "2024-03-03T16:08:56.753Z"
   },
   {
    "duration": 123,
    "start_time": "2024-03-03T16:08:57.310Z"
   },
   {
    "duration": 11,
    "start_time": "2024-03-03T16:09:01.461Z"
   },
   {
    "duration": 15,
    "start_time": "2024-03-03T16:09:20.834Z"
   },
   {
    "duration": 10,
    "start_time": "2024-03-03T16:09:44.648Z"
   },
   {
    "duration": 205,
    "start_time": "2024-03-03T16:26:04.019Z"
   },
   {
    "duration": 13,
    "start_time": "2024-03-03T16:26:12.657Z"
   },
   {
    "duration": 193,
    "start_time": "2024-03-03T16:26:15.843Z"
   },
   {
    "duration": 9,
    "start_time": "2024-03-03T16:26:45.964Z"
   },
   {
    "duration": 206,
    "start_time": "2024-03-03T16:26:47.556Z"
   },
   {
    "duration": 9,
    "start_time": "2024-03-03T16:30:08.521Z"
   },
   {
    "duration": 182,
    "start_time": "2024-03-03T16:30:26.640Z"
   },
   {
    "duration": 186,
    "start_time": "2024-03-03T18:00:30.409Z"
   },
   {
    "duration": 9,
    "start_time": "2024-03-03T18:00:32.767Z"
   },
   {
    "duration": 192,
    "start_time": "2024-03-03T18:01:00.121Z"
   },
   {
    "duration": 4,
    "start_time": "2024-03-03T18:01:01.627Z"
   },
   {
    "duration": 7,
    "start_time": "2024-03-03T18:05:29.279Z"
   },
   {
    "duration": 3,
    "start_time": "2024-03-03T18:10:29.258Z"
   },
   {
    "duration": 7,
    "start_time": "2024-03-03T18:28:33.052Z"
   },
   {
    "duration": 6,
    "start_time": "2024-03-03T18:29:02.493Z"
   },
   {
    "duration": 5,
    "start_time": "2024-03-03T18:30:41.358Z"
   },
   {
    "duration": 190,
    "start_time": "2024-03-03T18:34:46.692Z"
   },
   {
    "duration": 10,
    "start_time": "2024-03-03T18:35:57.552Z"
   },
   {
    "duration": 4,
    "start_time": "2024-03-03T18:40:02.281Z"
   },
   {
    "duration": 104,
    "start_time": "2024-03-04T13:01:30.574Z"
   },
   {
    "duration": 16,
    "start_time": "2024-03-04T13:01:59.085Z"
   },
   {
    "duration": 10,
    "start_time": "2024-03-04T13:03:24.116Z"
   },
   {
    "duration": 8,
    "start_time": "2024-03-04T13:03:44.418Z"
   },
   {
    "duration": 9,
    "start_time": "2024-03-04T13:08:01.624Z"
   },
   {
    "duration": 8,
    "start_time": "2024-03-04T13:08:12.481Z"
   },
   {
    "duration": 18,
    "start_time": "2024-03-04T13:09:07.474Z"
   },
   {
    "duration": 4,
    "start_time": "2024-03-04T13:12:12.557Z"
   },
   {
    "duration": 3,
    "start_time": "2024-03-04T13:13:43.790Z"
   },
   {
    "duration": 4,
    "start_time": "2024-03-04T13:15:21.730Z"
   },
   {
    "duration": 7,
    "start_time": "2024-03-04T13:16:51.385Z"
   },
   {
    "duration": 7,
    "start_time": "2024-03-04T13:21:26.894Z"
   },
   {
    "duration": 11,
    "start_time": "2024-03-04T13:21:28.794Z"
   },
   {
    "duration": 5,
    "start_time": "2024-03-04T13:21:37.879Z"
   },
   {
    "duration": 6,
    "start_time": "2024-03-04T13:21:41.283Z"
   },
   {
    "duration": 4,
    "start_time": "2024-03-04T13:21:45.488Z"
   },
   {
    "duration": 5,
    "start_time": "2024-03-04T13:21:50.892Z"
   },
   {
    "duration": 3,
    "start_time": "2024-03-04T13:21:55.246Z"
   },
   {
    "duration": 4,
    "start_time": "2024-03-04T13:22:02.342Z"
   },
   {
    "duration": 3,
    "start_time": "2024-03-04T13:22:03.697Z"
   },
   {
    "duration": 5,
    "start_time": "2024-03-04T13:22:07.063Z"
   },
   {
    "duration": 5,
    "start_time": "2024-03-04T13:22:13.932Z"
   },
   {
    "duration": 3,
    "start_time": "2024-03-04T13:22:16.000Z"
   },
   {
    "duration": 4,
    "start_time": "2024-03-04T13:22:17.842Z"
   },
   {
    "duration": 3,
    "start_time": "2024-03-04T13:22:19.256Z"
   },
   {
    "duration": 5,
    "start_time": "2024-03-04T13:22:19.775Z"
   },
   {
    "duration": 3,
    "start_time": "2024-03-04T13:22:23.148Z"
   },
   {
    "duration": 8,
    "start_time": "2024-03-04T13:23:44.371Z"
   },
   {
    "duration": 3,
    "start_time": "2024-03-04T13:24:41.875Z"
   },
   {
    "duration": 6,
    "start_time": "2024-03-04T13:24:59.641Z"
   },
   {
    "duration": 10,
    "start_time": "2024-03-04T13:25:38.573Z"
   },
   {
    "duration": 6,
    "start_time": "2024-03-04T13:26:55.052Z"
   },
   {
    "duration": 3,
    "start_time": "2024-03-04T13:27:26.799Z"
   },
   {
    "duration": 10,
    "start_time": "2024-03-04T13:28:16.690Z"
   },
   {
    "duration": 3,
    "start_time": "2024-03-04T13:28:33.273Z"
   },
   {
    "duration": 76,
    "start_time": "2024-03-04T13:28:34.040Z"
   },
   {
    "duration": 10,
    "start_time": "2024-03-04T13:28:34.981Z"
   },
   {
    "duration": 13,
    "start_time": "2024-03-04T13:28:35.866Z"
   },
   {
    "duration": 9,
    "start_time": "2024-03-04T13:28:37.538Z"
   },
   {
    "duration": 187,
    "start_time": "2024-03-04T13:28:38.730Z"
   },
   {
    "duration": 4,
    "start_time": "2024-03-04T13:28:40.191Z"
   },
   {
    "duration": 6,
    "start_time": "2024-03-04T13:28:41.245Z"
   },
   {
    "duration": 3,
    "start_time": "2024-03-04T13:28:51.584Z"
   },
   {
    "duration": 5,
    "start_time": "2024-03-04T13:28:54.489Z"
   },
   {
    "duration": 3,
    "start_time": "2024-03-04T13:28:55.669Z"
   },
   {
    "duration": 180,
    "start_time": "2024-03-04T13:28:58.231Z"
   },
   {
    "duration": 9,
    "start_time": "2024-03-04T13:29:06.418Z"
   },
   {
    "duration": 4,
    "start_time": "2024-03-04T13:29:08.790Z"
   },
   {
    "duration": 12,
    "start_time": "2024-03-04T13:29:15.842Z"
   },
   {
    "duration": 5,
    "start_time": "2024-03-04T13:29:18.429Z"
   },
   {
    "duration": 18,
    "start_time": "2024-03-04T13:29:56.242Z"
   },
   {
    "duration": 3,
    "start_time": "2024-03-04T13:30:46.265Z"
   },
   {
    "duration": 4,
    "start_time": "2024-03-04T13:30:47.321Z"
   },
   {
    "duration": 4,
    "start_time": "2024-03-04T13:31:47.432Z"
   },
   {
    "duration": 3,
    "start_time": "2024-03-04T13:32:22.025Z"
   },
   {
    "duration": 70,
    "start_time": "2024-03-04T13:32:22.491Z"
   },
   {
    "duration": 8,
    "start_time": "2024-03-04T13:32:23.542Z"
   },
   {
    "duration": 14,
    "start_time": "2024-03-04T13:32:29.905Z"
   },
   {
    "duration": 16,
    "start_time": "2024-03-04T13:32:31.996Z"
   },
   {
    "duration": 207,
    "start_time": "2024-03-04T13:32:33.264Z"
   },
   {
    "duration": 3,
    "start_time": "2024-03-04T13:32:34.929Z"
   },
   {
    "duration": 8,
    "start_time": "2024-03-04T13:32:36.124Z"
   },
   {
    "duration": 4,
    "start_time": "2024-03-04T13:32:38.491Z"
   },
   {
    "duration": 5,
    "start_time": "2024-03-04T13:32:39.852Z"
   },
   {
    "duration": 3,
    "start_time": "2024-03-04T13:32:41.773Z"
   },
   {
    "duration": 202,
    "start_time": "2024-03-04T13:32:47.039Z"
   },
   {
    "duration": 9,
    "start_time": "2024-03-04T13:32:49.743Z"
   },
   {
    "duration": 3,
    "start_time": "2024-03-04T13:32:58.762Z"
   },
   {
    "duration": 11,
    "start_time": "2024-03-04T13:33:00.522Z"
   },
   {
    "duration": 5,
    "start_time": "2024-03-04T13:33:02.799Z"
   },
   {
    "duration": 8,
    "start_time": "2024-03-04T13:33:59.773Z"
   },
   {
    "duration": 6,
    "start_time": "2024-03-04T13:34:13.957Z"
   },
   {
    "duration": 9,
    "start_time": "2024-03-04T13:34:28.507Z"
   },
   {
    "duration": 4,
    "start_time": "2024-03-04T13:35:09.867Z"
   },
   {
    "duration": 9,
    "start_time": "2024-03-04T13:35:20.985Z"
   },
   {
    "duration": 3,
    "start_time": "2024-03-04T13:35:34.839Z"
   },
   {
    "duration": 4,
    "start_time": "2024-03-04T13:35:41.965Z"
   },
   {
    "duration": 4,
    "start_time": "2024-03-04T13:35:43.275Z"
   },
   {
    "duration": 3,
    "start_time": "2024-03-04T13:35:53.893Z"
   },
   {
    "duration": 70,
    "start_time": "2024-03-04T13:35:54.345Z"
   },
   {
    "duration": 8,
    "start_time": "2024-03-04T13:35:54.704Z"
   },
   {
    "duration": 18,
    "start_time": "2024-03-04T13:35:55.183Z"
   },
   {
    "duration": 10,
    "start_time": "2024-03-04T13:35:55.926Z"
   },
   {
    "duration": 192,
    "start_time": "2024-03-04T13:35:56.257Z"
   },
   {
    "duration": 4,
    "start_time": "2024-03-04T13:35:56.796Z"
   },
   {
    "duration": 7,
    "start_time": "2024-03-04T13:35:57.180Z"
   },
   {
    "duration": 4,
    "start_time": "2024-03-04T13:35:57.723Z"
   },
   {
    "duration": 5,
    "start_time": "2024-03-04T13:35:58.968Z"
   },
   {
    "duration": 4,
    "start_time": "2024-03-04T13:36:00.154Z"
   },
   {
    "duration": 198,
    "start_time": "2024-03-04T13:36:02.161Z"
   },
   {
    "duration": 10,
    "start_time": "2024-03-04T13:36:03.604Z"
   },
   {
    "duration": 4,
    "start_time": "2024-03-04T13:36:06.074Z"
   },
   {
    "duration": 11,
    "start_time": "2024-03-04T13:36:10.822Z"
   },
   {
    "duration": 5,
    "start_time": "2024-03-04T13:36:13.164Z"
   },
   {
    "duration": 12,
    "start_time": "2024-03-04T13:36:45.811Z"
   },
   {
    "duration": 19,
    "start_time": "2024-03-04T13:38:37.233Z"
   },
   {
    "duration": 3,
    "start_time": "2024-03-04T14:54:38.416Z"
   },
   {
    "duration": 85,
    "start_time": "2024-03-04T14:54:38.869Z"
   },
   {
    "duration": 9,
    "start_time": "2024-03-04T14:54:40.412Z"
   },
   {
    "duration": 23,
    "start_time": "2024-03-04T14:54:41.426Z"
   },
   {
    "duration": 9,
    "start_time": "2024-03-04T14:54:43.366Z"
   },
   {
    "duration": 195,
    "start_time": "2024-03-04T14:54:44.361Z"
   },
   {
    "duration": 3,
    "start_time": "2024-03-04T14:54:45.692Z"
   },
   {
    "duration": 6,
    "start_time": "2024-03-04T14:54:46.593Z"
   },
   {
    "duration": 4,
    "start_time": "2024-03-04T14:54:48.701Z"
   },
   {
    "duration": 6,
    "start_time": "2024-03-04T14:54:49.718Z"
   },
   {
    "duration": 4,
    "start_time": "2024-03-04T14:54:50.711Z"
   },
   {
    "duration": 195,
    "start_time": "2024-03-04T14:54:52.992Z"
   },
   {
    "duration": 9,
    "start_time": "2024-03-04T14:54:54.484Z"
   },
   {
    "duration": 4,
    "start_time": "2024-03-04T14:54:56.909Z"
   },
   {
    "duration": 12,
    "start_time": "2024-03-04T14:55:00.115Z"
   },
   {
    "duration": 17,
    "start_time": "2024-03-04T14:55:03.694Z"
   },
   {
    "duration": 18,
    "start_time": "2024-03-04T14:55:20.034Z"
   },
   {
    "duration": 2,
    "start_time": "2024-03-04T15:03:48.428Z"
   },
   {
    "duration": 71,
    "start_time": "2024-03-04T15:03:49.439Z"
   },
   {
    "duration": 8,
    "start_time": "2024-03-04T15:03:50.526Z"
   },
   {
    "duration": 16,
    "start_time": "2024-03-04T15:03:51.232Z"
   },
   {
    "duration": 9,
    "start_time": "2024-03-04T15:03:52.003Z"
   },
   {
    "duration": 192,
    "start_time": "2024-03-04T15:03:52.391Z"
   },
   {
    "duration": 3,
    "start_time": "2024-03-04T15:03:53.025Z"
   },
   {
    "duration": 7,
    "start_time": "2024-03-04T15:03:53.741Z"
   },
   {
    "duration": 3,
    "start_time": "2024-03-04T15:03:54.791Z"
   },
   {
    "duration": 5,
    "start_time": "2024-03-04T15:03:55.730Z"
   },
   {
    "duration": 4,
    "start_time": "2024-03-04T15:03:56.470Z"
   },
   {
    "duration": 192,
    "start_time": "2024-03-04T15:04:00.366Z"
   },
   {
    "duration": 11,
    "start_time": "2024-03-04T15:04:02.018Z"
   },
   {
    "duration": 4,
    "start_time": "2024-03-04T15:04:04.283Z"
   },
   {
    "duration": 11,
    "start_time": "2024-03-04T15:04:05.582Z"
   },
   {
    "duration": 24,
    "start_time": "2024-03-04T15:04:06.792Z"
   },
   {
    "duration": 22,
    "start_time": "2024-03-04T15:04:08.129Z"
   },
   {
    "duration": 19,
    "start_time": "2024-03-04T15:06:04.921Z"
   },
   {
    "duration": 30,
    "start_time": "2024-03-04T15:06:41.874Z"
   },
   {
    "duration": 14,
    "start_time": "2024-03-04T15:08:47.905Z"
   },
   {
    "duration": 31,
    "start_time": "2024-03-04T15:10:02.770Z"
   },
   {
    "duration": 12,
    "start_time": "2024-03-04T15:13:13.655Z"
   },
   {
    "duration": 7,
    "start_time": "2024-03-04T15:16:15.994Z"
   },
   {
    "duration": 7,
    "start_time": "2024-03-04T15:16:34.612Z"
   },
   {
    "duration": 6,
    "start_time": "2024-03-04T15:16:44.798Z"
   },
   {
    "duration": 7,
    "start_time": "2024-03-04T15:16:46.398Z"
   },
   {
    "duration": 3,
    "start_time": "2024-03-04T15:16:53.281Z"
   },
   {
    "duration": 70,
    "start_time": "2024-03-04T15:16:53.738Z"
   },
   {
    "duration": 10,
    "start_time": "2024-03-04T15:16:54.130Z"
   },
   {
    "duration": 15,
    "start_time": "2024-03-04T15:16:54.784Z"
   },
   {
    "duration": 9,
    "start_time": "2024-03-04T15:16:55.400Z"
   },
   {
    "duration": 190,
    "start_time": "2024-03-04T15:16:55.729Z"
   },
   {
    "duration": 4,
    "start_time": "2024-03-04T15:16:56.231Z"
   },
   {
    "duration": 7,
    "start_time": "2024-03-04T15:16:56.594Z"
   },
   {
    "duration": 4,
    "start_time": "2024-03-04T15:16:57.120Z"
   },
   {
    "duration": 6,
    "start_time": "2024-03-04T15:16:57.566Z"
   },
   {
    "duration": 4,
    "start_time": "2024-03-04T15:16:57.981Z"
   },
   {
    "duration": 191,
    "start_time": "2024-03-04T15:16:59.812Z"
   },
   {
    "duration": 10,
    "start_time": "2024-03-04T15:17:01.081Z"
   },
   {
    "duration": 5,
    "start_time": "2024-03-04T15:17:03.514Z"
   },
   {
    "duration": 12,
    "start_time": "2024-03-04T15:17:10.898Z"
   },
   {
    "duration": 17,
    "start_time": "2024-03-04T15:17:17.065Z"
   },
   {
    "duration": 31,
    "start_time": "2024-03-04T15:17:20.414Z"
   },
   {
    "duration": 14,
    "start_time": "2024-03-04T15:17:50.501Z"
   },
   {
    "duration": 3,
    "start_time": "2024-03-04T15:18:21.108Z"
   },
   {
    "duration": 74,
    "start_time": "2024-03-04T15:18:21.304Z"
   },
   {
    "duration": 9,
    "start_time": "2024-03-04T15:18:21.620Z"
   },
   {
    "duration": 15,
    "start_time": "2024-03-04T15:18:21.920Z"
   },
   {
    "duration": 9,
    "start_time": "2024-03-04T15:18:22.563Z"
   },
   {
    "duration": 188,
    "start_time": "2024-03-04T15:18:22.879Z"
   },
   {
    "duration": 4,
    "start_time": "2024-03-04T15:18:23.398Z"
   },
   {
    "duration": 6,
    "start_time": "2024-03-04T15:18:23.749Z"
   },
   {
    "duration": 4,
    "start_time": "2024-03-04T15:18:24.754Z"
   },
   {
    "duration": 5,
    "start_time": "2024-03-04T15:18:25.430Z"
   },
   {
    "duration": 3,
    "start_time": "2024-03-04T15:18:26.263Z"
   },
   {
    "duration": 186,
    "start_time": "2024-03-04T15:18:27.813Z"
   },
   {
    "duration": 9,
    "start_time": "2024-03-04T15:18:29.269Z"
   },
   {
    "duration": 3,
    "start_time": "2024-03-04T15:18:34.173Z"
   },
   {
    "duration": 11,
    "start_time": "2024-03-04T15:18:36.495Z"
   },
   {
    "duration": 16,
    "start_time": "2024-03-04T15:18:41.225Z"
   },
   {
    "duration": 17,
    "start_time": "2024-03-04T15:18:44.042Z"
   },
   {
    "duration": 3,
    "start_time": "2024-03-04T15:27:02.783Z"
   },
   {
    "duration": 399,
    "start_time": "2024-03-04T16:05:31.542Z"
   },
   {
    "duration": 4,
    "start_time": "2024-03-04T16:18:13.341Z"
   },
   {
    "duration": 3,
    "start_time": "2024-03-04T16:18:25.414Z"
   },
   {
    "duration": 390,
    "start_time": "2024-03-04T16:18:35.690Z"
   },
   {
    "duration": 407,
    "start_time": "2024-03-04T16:19:01.323Z"
   },
   {
    "duration": 3,
    "start_time": "2024-03-04T16:21:15.334Z"
   },
   {
    "duration": 3,
    "start_time": "2024-03-04T16:21:20.548Z"
   },
   {
    "duration": 392,
    "start_time": "2024-03-04T16:21:21.183Z"
   },
   {
    "duration": 10,
    "start_time": "2024-03-04T16:25:40.333Z"
   },
   {
    "duration": 3,
    "start_time": "2024-03-04T16:25:46.773Z"
   },
   {
    "duration": 9,
    "start_time": "2024-03-04T16:25:47.638Z"
   },
   {
    "duration": 17,
    "start_time": "2024-03-04T16:26:45.002Z"
   },
   {
    "duration": 4,
    "start_time": "2024-03-04T16:27:41.174Z"
   },
   {
    "duration": 75,
    "start_time": "2024-03-04T16:27:41.433Z"
   },
   {
    "duration": 8,
    "start_time": "2024-03-04T16:27:41.813Z"
   },
   {
    "duration": 15,
    "start_time": "2024-03-04T16:27:42.130Z"
   },
   {
    "duration": 9,
    "start_time": "2024-03-04T16:27:42.774Z"
   },
   {
    "duration": 185,
    "start_time": "2024-03-04T16:27:43.112Z"
   },
   {
    "duration": 3,
    "start_time": "2024-03-04T16:27:43.631Z"
   },
   {
    "duration": 9,
    "start_time": "2024-03-04T16:27:43.980Z"
   },
   {
    "duration": 3,
    "start_time": "2024-03-04T16:27:44.518Z"
   },
   {
    "duration": 6,
    "start_time": "2024-03-04T16:27:44.804Z"
   },
   {
    "duration": 3,
    "start_time": "2024-03-04T16:27:45.172Z"
   },
   {
    "duration": 203,
    "start_time": "2024-03-04T16:27:46.320Z"
   },
   {
    "duration": 8,
    "start_time": "2024-03-04T16:27:47.213Z"
   },
   {
    "duration": 4,
    "start_time": "2024-03-04T16:27:48.262Z"
   },
   {
    "duration": 13,
    "start_time": "2024-03-04T16:27:51.890Z"
   },
   {
    "duration": 17,
    "start_time": "2024-03-04T16:27:53.639Z"
   },
   {
    "duration": 17,
    "start_time": "2024-03-04T16:27:54.812Z"
   },
   {
    "duration": 3,
    "start_time": "2024-03-04T16:28:00.387Z"
   },
   {
    "duration": 16,
    "start_time": "2024-03-04T16:28:01.814Z"
   },
   {
    "duration": 2,
    "start_time": "2024-03-04T16:28:04.940Z"
   },
   {
    "duration": 3,
    "start_time": "2024-03-04T16:29:55.738Z"
   },
   {
    "duration": 9,
    "start_time": "2024-03-04T16:30:19.115Z"
   },
   {
    "duration": 10,
    "start_time": "2024-03-04T16:34:37.725Z"
   },
   {
    "duration": 7,
    "start_time": "2024-03-04T16:34:44.225Z"
   },
   {
    "duration": 8,
    "start_time": "2024-03-04T16:39:27.819Z"
   }
  ],
  "colab": {
   "provenance": []
  },
  "kernelspec": {
   "display_name": "Python 3 (ipykernel)",
   "language": "python",
   "name": "python3"
  },
  "language_info": {
   "codemirror_mode": {
    "name": "ipython",
    "version": 3
   },
   "file_extension": ".py",
   "mimetype": "text/x-python",
   "name": "python",
   "nbconvert_exporter": "python",
   "pygments_lexer": "ipython3",
   "version": "3.9.5"
  },
  "toc": {
   "base_numbering": 1,
   "nav_menu": {},
   "number_sections": true,
   "sideBar": true,
   "skip_h1_title": true,
   "title_cell": "Table of Contents",
   "title_sidebar": "Contents",
   "toc_cell": false,
   "toc_position": {},
   "toc_section_display": true,
   "toc_window_display": true
  }
 },
 "nbformat": 4,
 "nbformat_minor": 5
}
